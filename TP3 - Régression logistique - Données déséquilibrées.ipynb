{
 "cells": [
  {
   "cell_type": "markdown",
   "metadata": {},
   "source": [
    "# TP3 - Régression logistique - Données déséquilibrées"
   ]
  },
  {
   "cell_type": "code",
   "execution_count": 1,
   "metadata": {},
   "outputs": [],
   "source": [
    "import pandas as pd\n",
    "import numpy as np\n",
    "import matplotlib.pyplot as plt\n",
    "\n",
    "from sklearn.linear_model import LogisticRegression\n",
    "from sklearn.model_selection import train_test_split\n",
    "from sklearn.metrics import confusion_matrix, accuracy_score, f1_score, roc_curve, roc_auc_score\n",
    "\n",
    "from imblearn.under_sampling import NearMiss\n",
    "from imblearn.over_sampling import SMOTE"
   ]
  },
  {
   "cell_type": "markdown",
   "metadata": {},
   "source": [
    "## Question 1"
   ]
  },
  {
   "cell_type": "code",
   "execution_count": 2,
   "metadata": {},
   "outputs": [],
   "source": [
    "#Importation des données\n",
    "X, Y = pd.read_csv('Telecom_x.csv', index_col=0), pd.read_csv('Telecom_y.csv',index_col=0)"
   ]
  },
  {
   "cell_type": "code",
   "execution_count": 3,
   "metadata": {},
   "outputs": [
    {
     "data": {
      "text/html": [
       "<div>\n",
       "<style scoped>\n",
       "    .dataframe tbody tr th:only-of-type {\n",
       "        vertical-align: middle;\n",
       "    }\n",
       "\n",
       "    .dataframe tbody tr th {\n",
       "        vertical-align: top;\n",
       "    }\n",
       "\n",
       "    .dataframe thead th {\n",
       "        text-align: right;\n",
       "    }\n",
       "</style>\n",
       "<table border=\"1\" class=\"dataframe\">\n",
       "  <thead>\n",
       "    <tr style=\"text-align: right;\">\n",
       "      <th></th>\n",
       "      <th>VMail Message</th>\n",
       "      <th>Day Mins</th>\n",
       "      <th>Day Calls</th>\n",
       "      <th>Day Charge</th>\n",
       "      <th>Eve Mins</th>\n",
       "      <th>Eve Calls</th>\n",
       "      <th>Eve Charge</th>\n",
       "      <th>Night Mins</th>\n",
       "      <th>Night Calls</th>\n",
       "      <th>Night Charge</th>\n",
       "      <th>Intl Mins</th>\n",
       "      <th>Intl Calls</th>\n",
       "      <th>Intl Charge</th>\n",
       "      <th>CustServ Calls</th>\n",
       "    </tr>\n",
       "  </thead>\n",
       "  <tbody>\n",
       "    <tr>\n",
       "      <th>count</th>\n",
       "      <td>3333.000000</td>\n",
       "      <td>3333.000000</td>\n",
       "      <td>3333.000000</td>\n",
       "      <td>3333.000000</td>\n",
       "      <td>3333.000000</td>\n",
       "      <td>3333.000000</td>\n",
       "      <td>3333.000000</td>\n",
       "      <td>3333.000000</td>\n",
       "      <td>3333.000000</td>\n",
       "      <td>3333.000000</td>\n",
       "      <td>3333.000000</td>\n",
       "      <td>3333.000000</td>\n",
       "      <td>3333.000000</td>\n",
       "      <td>3333.000000</td>\n",
       "    </tr>\n",
       "    <tr>\n",
       "      <th>mean</th>\n",
       "      <td>8.099010</td>\n",
       "      <td>179.775098</td>\n",
       "      <td>100.435644</td>\n",
       "      <td>30.562307</td>\n",
       "      <td>200.980348</td>\n",
       "      <td>100.114311</td>\n",
       "      <td>17.083540</td>\n",
       "      <td>200.872037</td>\n",
       "      <td>100.107711</td>\n",
       "      <td>9.039325</td>\n",
       "      <td>10.237294</td>\n",
       "      <td>4.479448</td>\n",
       "      <td>2.764581</td>\n",
       "      <td>1.562856</td>\n",
       "    </tr>\n",
       "    <tr>\n",
       "      <th>std</th>\n",
       "      <td>13.688365</td>\n",
       "      <td>54.467389</td>\n",
       "      <td>20.069084</td>\n",
       "      <td>9.259435</td>\n",
       "      <td>50.713844</td>\n",
       "      <td>19.922625</td>\n",
       "      <td>4.310668</td>\n",
       "      <td>50.573847</td>\n",
       "      <td>19.568609</td>\n",
       "      <td>2.275873</td>\n",
       "      <td>2.791840</td>\n",
       "      <td>2.461214</td>\n",
       "      <td>0.753773</td>\n",
       "      <td>1.315491</td>\n",
       "    </tr>\n",
       "    <tr>\n",
       "      <th>min</th>\n",
       "      <td>0.000000</td>\n",
       "      <td>0.000000</td>\n",
       "      <td>0.000000</td>\n",
       "      <td>0.000000</td>\n",
       "      <td>0.000000</td>\n",
       "      <td>0.000000</td>\n",
       "      <td>0.000000</td>\n",
       "      <td>23.200000</td>\n",
       "      <td>33.000000</td>\n",
       "      <td>1.040000</td>\n",
       "      <td>0.000000</td>\n",
       "      <td>0.000000</td>\n",
       "      <td>0.000000</td>\n",
       "      <td>0.000000</td>\n",
       "    </tr>\n",
       "    <tr>\n",
       "      <th>25%</th>\n",
       "      <td>0.000000</td>\n",
       "      <td>143.700000</td>\n",
       "      <td>87.000000</td>\n",
       "      <td>24.430000</td>\n",
       "      <td>166.600000</td>\n",
       "      <td>87.000000</td>\n",
       "      <td>14.160000</td>\n",
       "      <td>167.000000</td>\n",
       "      <td>87.000000</td>\n",
       "      <td>7.520000</td>\n",
       "      <td>8.500000</td>\n",
       "      <td>3.000000</td>\n",
       "      <td>2.300000</td>\n",
       "      <td>1.000000</td>\n",
       "    </tr>\n",
       "    <tr>\n",
       "      <th>50%</th>\n",
       "      <td>0.000000</td>\n",
       "      <td>179.400000</td>\n",
       "      <td>101.000000</td>\n",
       "      <td>30.500000</td>\n",
       "      <td>201.400000</td>\n",
       "      <td>100.000000</td>\n",
       "      <td>17.120000</td>\n",
       "      <td>201.200000</td>\n",
       "      <td>100.000000</td>\n",
       "      <td>9.050000</td>\n",
       "      <td>10.300000</td>\n",
       "      <td>4.000000</td>\n",
       "      <td>2.780000</td>\n",
       "      <td>1.000000</td>\n",
       "    </tr>\n",
       "    <tr>\n",
       "      <th>75%</th>\n",
       "      <td>20.000000</td>\n",
       "      <td>216.400000</td>\n",
       "      <td>114.000000</td>\n",
       "      <td>36.790000</td>\n",
       "      <td>235.300000</td>\n",
       "      <td>114.000000</td>\n",
       "      <td>20.000000</td>\n",
       "      <td>235.300000</td>\n",
       "      <td>113.000000</td>\n",
       "      <td>10.590000</td>\n",
       "      <td>12.100000</td>\n",
       "      <td>6.000000</td>\n",
       "      <td>3.270000</td>\n",
       "      <td>2.000000</td>\n",
       "    </tr>\n",
       "    <tr>\n",
       "      <th>max</th>\n",
       "      <td>51.000000</td>\n",
       "      <td>350.800000</td>\n",
       "      <td>165.000000</td>\n",
       "      <td>59.640000</td>\n",
       "      <td>363.700000</td>\n",
       "      <td>170.000000</td>\n",
       "      <td>30.910000</td>\n",
       "      <td>395.000000</td>\n",
       "      <td>175.000000</td>\n",
       "      <td>17.770000</td>\n",
       "      <td>20.000000</td>\n",
       "      <td>20.000000</td>\n",
       "      <td>5.400000</td>\n",
       "      <td>9.000000</td>\n",
       "    </tr>\n",
       "  </tbody>\n",
       "</table>\n",
       "</div>"
      ],
      "text/plain": [
       "       VMail Message     Day Mins    Day Calls   Day Charge     Eve Mins  \\\n",
       "count    3333.000000  3333.000000  3333.000000  3333.000000  3333.000000   \n",
       "mean        8.099010   179.775098   100.435644    30.562307   200.980348   \n",
       "std        13.688365    54.467389    20.069084     9.259435    50.713844   \n",
       "min         0.000000     0.000000     0.000000     0.000000     0.000000   \n",
       "25%         0.000000   143.700000    87.000000    24.430000   166.600000   \n",
       "50%         0.000000   179.400000   101.000000    30.500000   201.400000   \n",
       "75%        20.000000   216.400000   114.000000    36.790000   235.300000   \n",
       "max        51.000000   350.800000   165.000000    59.640000   363.700000   \n",
       "\n",
       "         Eve Calls   Eve Charge   Night Mins  Night Calls  Night Charge  \\\n",
       "count  3333.000000  3333.000000  3333.000000  3333.000000   3333.000000   \n",
       "mean    100.114311    17.083540   200.872037   100.107711      9.039325   \n",
       "std      19.922625     4.310668    50.573847    19.568609      2.275873   \n",
       "min       0.000000     0.000000    23.200000    33.000000      1.040000   \n",
       "25%      87.000000    14.160000   167.000000    87.000000      7.520000   \n",
       "50%     100.000000    17.120000   201.200000   100.000000      9.050000   \n",
       "75%     114.000000    20.000000   235.300000   113.000000     10.590000   \n",
       "max     170.000000    30.910000   395.000000   175.000000     17.770000   \n",
       "\n",
       "         Intl Mins   Intl Calls  Intl Charge  CustServ Calls  \n",
       "count  3333.000000  3333.000000  3333.000000     3333.000000  \n",
       "mean     10.237294     4.479448     2.764581        1.562856  \n",
       "std       2.791840     2.461214     0.753773        1.315491  \n",
       "min       0.000000     0.000000     0.000000        0.000000  \n",
       "25%       8.500000     3.000000     2.300000        1.000000  \n",
       "50%      10.300000     4.000000     2.780000        1.000000  \n",
       "75%      12.100000     6.000000     3.270000        2.000000  \n",
       "max      20.000000    20.000000     5.400000        9.000000  "
      ]
     },
     "execution_count": 3,
     "metadata": {},
     "output_type": "execute_result"
    }
   ],
   "source": [
    "X.describe()"
   ]
  },
  {
   "cell_type": "code",
   "execution_count": 4,
   "metadata": {},
   "outputs": [
    {
     "data": {
      "text/html": [
       "<div>\n",
       "<style scoped>\n",
       "    .dataframe tbody tr th:only-of-type {\n",
       "        vertical-align: middle;\n",
       "    }\n",
       "\n",
       "    .dataframe tbody tr th {\n",
       "        vertical-align: top;\n",
       "    }\n",
       "\n",
       "    .dataframe thead th {\n",
       "        text-align: right;\n",
       "    }\n",
       "</style>\n",
       "<table border=\"1\" class=\"dataframe\">\n",
       "  <thead>\n",
       "    <tr style=\"text-align: right;\">\n",
       "      <th></th>\n",
       "      <th>0</th>\n",
       "    </tr>\n",
       "  </thead>\n",
       "  <tbody>\n",
       "    <tr>\n",
       "      <th>count</th>\n",
       "      <td>3333.000000</td>\n",
       "    </tr>\n",
       "    <tr>\n",
       "      <th>mean</th>\n",
       "      <td>0.144914</td>\n",
       "    </tr>\n",
       "    <tr>\n",
       "      <th>std</th>\n",
       "      <td>0.352067</td>\n",
       "    </tr>\n",
       "    <tr>\n",
       "      <th>min</th>\n",
       "      <td>0.000000</td>\n",
       "    </tr>\n",
       "    <tr>\n",
       "      <th>25%</th>\n",
       "      <td>0.000000</td>\n",
       "    </tr>\n",
       "    <tr>\n",
       "      <th>50%</th>\n",
       "      <td>0.000000</td>\n",
       "    </tr>\n",
       "    <tr>\n",
       "      <th>75%</th>\n",
       "      <td>0.000000</td>\n",
       "    </tr>\n",
       "    <tr>\n",
       "      <th>max</th>\n",
       "      <td>1.000000</td>\n",
       "    </tr>\n",
       "  </tbody>\n",
       "</table>\n",
       "</div>"
      ],
      "text/plain": [
       "                 0\n",
       "count  3333.000000\n",
       "mean      0.144914\n",
       "std       0.352067\n",
       "min       0.000000\n",
       "25%       0.000000\n",
       "50%       0.000000\n",
       "75%       0.000000\n",
       "max       1.000000"
      ]
     },
     "execution_count": 4,
     "metadata": {},
     "output_type": "execute_result"
    }
   ],
   "source": [
    "Y.describe()"
   ]
  },
  {
   "cell_type": "markdown",
   "metadata": {},
   "source": [
    "On divise les données en 80% pour l'entrainement et 20% pour le test. Cela permet d'avoir une bonne répartition entre les données d'entrainement et les données pour le test."
   ]
  },
  {
   "cell_type": "code",
   "execution_count": 5,
   "metadata": {},
   "outputs": [
    {
     "data": {
      "text/html": [
       "<div>\n",
       "<style scoped>\n",
       "    .dataframe tbody tr th:only-of-type {\n",
       "        vertical-align: middle;\n",
       "    }\n",
       "\n",
       "    .dataframe tbody tr th {\n",
       "        vertical-align: top;\n",
       "    }\n",
       "\n",
       "    .dataframe thead th {\n",
       "        text-align: right;\n",
       "    }\n",
       "</style>\n",
       "<table border=\"1\" class=\"dataframe\">\n",
       "  <thead>\n",
       "    <tr style=\"text-align: right;\">\n",
       "      <th></th>\n",
       "      <th>VMail Message</th>\n",
       "      <th>Day Mins</th>\n",
       "      <th>Day Calls</th>\n",
       "      <th>Day Charge</th>\n",
       "      <th>Eve Mins</th>\n",
       "      <th>Eve Calls</th>\n",
       "      <th>Eve Charge</th>\n",
       "      <th>Night Mins</th>\n",
       "      <th>Night Calls</th>\n",
       "      <th>Night Charge</th>\n",
       "      <th>Intl Mins</th>\n",
       "      <th>Intl Calls</th>\n",
       "      <th>Intl Charge</th>\n",
       "      <th>CustServ Calls</th>\n",
       "    </tr>\n",
       "  </thead>\n",
       "  <tbody>\n",
       "    <tr>\n",
       "      <th>438</th>\n",
       "      <td>0</td>\n",
       "      <td>155.0</td>\n",
       "      <td>93</td>\n",
       "      <td>26.35</td>\n",
       "      <td>330.6</td>\n",
       "      <td>106</td>\n",
       "      <td>28.10</td>\n",
       "      <td>189.4</td>\n",
       "      <td>123</td>\n",
       "      <td>8.52</td>\n",
       "      <td>13.5</td>\n",
       "      <td>3</td>\n",
       "      <td>3.65</td>\n",
       "      <td>1</td>\n",
       "    </tr>\n",
       "    <tr>\n",
       "      <th>2674</th>\n",
       "      <td>0</td>\n",
       "      <td>109.1</td>\n",
       "      <td>117</td>\n",
       "      <td>18.55</td>\n",
       "      <td>217.4</td>\n",
       "      <td>124</td>\n",
       "      <td>18.48</td>\n",
       "      <td>188.4</td>\n",
       "      <td>141</td>\n",
       "      <td>8.48</td>\n",
       "      <td>12.8</td>\n",
       "      <td>6</td>\n",
       "      <td>3.46</td>\n",
       "      <td>0</td>\n",
       "    </tr>\n",
       "    <tr>\n",
       "      <th>1345</th>\n",
       "      <td>0</td>\n",
       "      <td>0.0</td>\n",
       "      <td>0</td>\n",
       "      <td>0.00</td>\n",
       "      <td>159.6</td>\n",
       "      <td>130</td>\n",
       "      <td>13.57</td>\n",
       "      <td>167.1</td>\n",
       "      <td>88</td>\n",
       "      <td>7.52</td>\n",
       "      <td>6.8</td>\n",
       "      <td>1</td>\n",
       "      <td>1.84</td>\n",
       "      <td>4</td>\n",
       "    </tr>\n",
       "    <tr>\n",
       "      <th>1957</th>\n",
       "      <td>0</td>\n",
       "      <td>212.8</td>\n",
       "      <td>79</td>\n",
       "      <td>36.18</td>\n",
       "      <td>204.1</td>\n",
       "      <td>91</td>\n",
       "      <td>17.35</td>\n",
       "      <td>156.2</td>\n",
       "      <td>113</td>\n",
       "      <td>7.03</td>\n",
       "      <td>10.2</td>\n",
       "      <td>2</td>\n",
       "      <td>2.75</td>\n",
       "      <td>1</td>\n",
       "    </tr>\n",
       "    <tr>\n",
       "      <th>2148</th>\n",
       "      <td>0</td>\n",
       "      <td>144.0</td>\n",
       "      <td>102</td>\n",
       "      <td>24.48</td>\n",
       "      <td>224.7</td>\n",
       "      <td>73</td>\n",
       "      <td>19.10</td>\n",
       "      <td>227.7</td>\n",
       "      <td>91</td>\n",
       "      <td>10.25</td>\n",
       "      <td>10.0</td>\n",
       "      <td>7</td>\n",
       "      <td>2.70</td>\n",
       "      <td>1</td>\n",
       "    </tr>\n",
       "  </tbody>\n",
       "</table>\n",
       "</div>"
      ],
      "text/plain": [
       "      VMail Message  Day Mins  Day Calls  Day Charge  Eve Mins  Eve Calls  \\\n",
       "438               0     155.0         93       26.35     330.6        106   \n",
       "2674              0     109.1        117       18.55     217.4        124   \n",
       "1345              0       0.0          0        0.00     159.6        130   \n",
       "1957              0     212.8         79       36.18     204.1         91   \n",
       "2148              0     144.0        102       24.48     224.7         73   \n",
       "\n",
       "      Eve Charge  Night Mins  Night Calls  Night Charge  Intl Mins  \\\n",
       "438        28.10       189.4          123          8.52       13.5   \n",
       "2674       18.48       188.4          141          8.48       12.8   \n",
       "1345       13.57       167.1           88          7.52        6.8   \n",
       "1957       17.35       156.2          113          7.03       10.2   \n",
       "2148       19.10       227.7           91         10.25       10.0   \n",
       "\n",
       "      Intl Calls  Intl Charge  CustServ Calls  \n",
       "438            3         3.65               1  \n",
       "2674           6         3.46               0  \n",
       "1345           1         1.84               4  \n",
       "1957           2         2.75               1  \n",
       "2148           7         2.70               1  "
      ]
     },
     "execution_count": 5,
     "metadata": {},
     "output_type": "execute_result"
    }
   ],
   "source": [
    "#Création des bases test et apprentissage\n",
    "X_train, X_test, Y_train, Y_test = train_test_split(X, Y, test_size=0.2, random_state=42)\n",
    "X_test.head()"
   ]
  },
  {
   "cell_type": "markdown",
   "metadata": {},
   "source": [
    "## Question 2"
   ]
  },
  {
   "cell_type": "code",
   "execution_count": 6,
   "metadata": {},
   "outputs": [],
   "source": [
    "#Régression logistique\n",
    "clf = LogisticRegression(max_iter=1000).fit(X_train, Y_train.to_numpy().ravel())\n",
    "Y_pred = clf.predict(X_test)"
   ]
  },
  {
   "cell_type": "markdown",
   "metadata": {},
   "source": [
    "## Question 3"
   ]
  },
  {
   "cell_type": "markdown",
   "metadata": {},
   "source": [
    "Plus les Odds Ratios se rapprochent de 1, moins la variable n'a d'effet significatif. \\\n",
    "Si > 1 alors, une augmentation de cette variable est associé à une augmentation de désabonnement. \\\n",
    "Si <1 alors, une augmentation de cette variable est associé à une réduction de désabonnement."
   ]
  },
  {
   "cell_type": "code",
   "execution_count": 7,
   "metadata": {},
   "outputs": [
    {
     "name": "stdout",
     "output_type": "stream",
     "text": [
      "                       0\n",
      "VMail Message   0.976290\n",
      "Day Mins        1.010580\n",
      "Day Calls       1.000070\n",
      "Day Charge      1.008615\n",
      "Eve Mins        1.007508\n",
      "Eve Calls       1.001834\n",
      "Eve Charge      0.980176\n",
      "Night Mins      1.002259\n",
      "Night Calls     0.999206\n",
      "Night Charge    0.992255\n",
      "Intl Mins       1.096747\n",
      "Intl Calls      0.914910\n",
      "Intl Charge     1.028762\n",
      "CustServ Calls  1.565303\n"
     ]
    }
   ],
   "source": [
    "#Calcul des odds-ratios\n",
    "odds_ratios = pd.DataFrame(np.exp(clf.coef_), columns=X.columns).T\n",
    "print(odds_ratios)"
   ]
  },
  {
   "cell_type": "markdown",
   "metadata": {},
   "source": [
    "Ainsi le service augmentant le plus les désabonnements est le CustServ Calls (augmente de 1.565 fois la probabilité de désabonnement).\\\n",
    "Le service qui baisse le plus la probabilité de se désabonner est Intl Calls (multiplie par 0.915 la probabilité)."
   ]
  },
  {
   "cell_type": "markdown",
   "metadata": {},
   "source": [
    "## Question 4"
   ]
  },
  {
   "cell_type": "code",
   "execution_count": 8,
   "metadata": {},
   "outputs": [
    {
     "name": "stdout",
     "output_type": "stream",
     "text": [
      "     0  1\n",
      "0  564  2\n",
      "1   92  9\n",
      "Précision du modèle :  0.8590704647676162\n"
     ]
    }
   ],
   "source": [
    "#Matrice de confusion\n",
    "print(pd.DataFrame(confusion_matrix(Y_test, clf.predict(X_test))))\n",
    "\n",
    "#Accuracy score\n",
    "print('Précision du modèle : ', accuracy_score(Y_test,clf.predict(X_test)))"
   ]
  },
  {
   "cell_type": "markdown",
   "metadata": {},
   "source": [
    "Le modèle de régression logistique qu'on vient de faire à une accuracy de 0.85. Il est assez bon. \\\n",
    " Mais si on fait attention à la matrice de confusion, la classe des non-désabonnements (ligne 1 : 564 + 2 observations) est beaucoup plus représentée que la classe des desabonnements \n",
    "(ligne 2 : 92 + 9 observations). Les données sont donc déséquilibrées."
   ]
  },
  {
   "cell_type": "markdown",
   "metadata": {},
   "source": [
    "## Question 5"
   ]
  },
  {
   "cell_type": "markdown",
   "metadata": {},
   "source": [
    "Le but de ces modèles va être de régler (ou de minimiser) le problème de déséquilibre. Pour mesurer ce déséquilibre, on va utiliser \\\n",
    "la mesure f1_score de sklearn qui est une mesure permettant d'évaluer la performance du modèle sur toutes les classes."
   ]
  },
  {
   "cell_type": "markdown",
   "metadata": {},
   "source": [
    "### Modèle de changement de seuil"
   ]
  },
  {
   "cell_type": "markdown",
   "metadata": {},
   "source": [
    "Les lignes de codes suivantes permettent de trouver le meilleur seuil, c'est à dire celui qui donne le meilleur F1-score."
   ]
  },
  {
   "cell_type": "code",
   "execution_count": 9,
   "metadata": {},
   "outputs": [
    {
     "name": "stdout",
     "output_type": "stream",
     "text": [
      "Seuil obtenant le meilleur F1-score : \n",
      "     Seuil  F1-score\n",
      "216  0.216  0.495868\n",
      "217  0.217  0.495868\n",
      "Matrice de confusion : \n",
      "      0   1\n",
      "0  485  81\n",
      "1   41  60\n",
      "Précision du modèle :  0.8170914542728636\n"
     ]
    }
   ],
   "source": [
    "Y_prob = clf.predict_proba(X_test)[:, 1] #Récupération des probas du modèle\n",
    "seuil = np.arange(0,1,0.001)\n",
    "f1 = []\n",
    "\n",
    "for s in seuil:\n",
    "    #Application du seuil (Booléen -> True si supérieur à s (=>désabonnement), sinon False)\n",
    "    s_pred = (Y_prob >= s).astype(int) \n",
    "    f1.append([s, f1_score(Y_test, s_pred)])\n",
    "\n",
    "print('Seuil obtenant le meilleur F1-score : ')\n",
    "df_s = pd.DataFrame(f1, columns=['Seuil','F1-score'])\n",
    "best_seuil = df_s.loc[df_s['F1-score'] == df_s['F1-score'].max()]\n",
    "print(best_seuil)\n",
    "\n",
    "#Performance du modèle :\n",
    "s_pred = (Y_prob >= best_seuil['Seuil'].values[0]).astype(int)\n",
    "\n",
    "#Matrice de confusion\n",
    "print('Matrice de confusion : \\n', pd.DataFrame(confusion_matrix(Y_test, s_pred)))\n",
    "#Accuracy score\n",
    "print('Précision du modèle : ', accuracy_score(Y_test, s_pred))\n"
   ]
  },
  {
   "cell_type": "markdown",
   "metadata": {},
   "source": [
    "### Modèle de sous-échantillonnage"
   ]
  },
  {
   "cell_type": "markdown",
   "metadata": {},
   "source": [
    "Cette méthode permet de mieux catégoriser les observations en supprimant les données ayant des classes différentes sont proches."
   ]
  },
  {
   "cell_type": "code",
   "execution_count": 10,
   "metadata": {},
   "outputs": [
    {
     "name": "stdout",
     "output_type": "stream",
     "text": [
      "Odds Ratio : \n",
      "                         0\n",
      "VMail Message   1.048544\n",
      "Day Mins        1.014512\n",
      "Day Calls       0.992493\n",
      "Day Charge      0.995011\n",
      "Eve Mins        1.012386\n",
      "Eve Calls       0.999009\n",
      "Eve Charge      0.968849\n",
      "Night Mins      1.003056\n",
      "Night Calls     0.994563\n",
      "Night Charge    0.991356\n",
      "Intl Mins       1.118568\n",
      "Intl Calls      0.926573\n",
      "Intl Charge     0.975415\n",
      "CustServ Calls  1.659702\n",
      "     0    1\n",
      "0  329  237\n",
      "1   25   76\n",
      "Précision du modèle :  0.6071964017991005\n",
      "F1-Score :  0.3671497584541063\n"
     ]
    }
   ],
   "source": [
    "NM = NearMiss()\n",
    "X_NM, Y_NM = NM.fit_resample(X_train, Y_train)\n",
    "\n",
    "#Régression logistique\n",
    "clf_NM = LogisticRegression(max_iter=1000).fit(X_NM, Y_NM.to_numpy().ravel())\n",
    "Y_pred_NM = clf_NM.predict(X_test)\n",
    "\n",
    "#Calcul des odds-ratios\n",
    "odds_ratios_NM = pd.DataFrame(np.exp(clf_NM.coef_), columns=X.columns)\n",
    "print('Odds Ratio : \\n ', odds_ratios_NM.T)\n",
    "\n",
    "#Matrice de confusion\n",
    "print(pd.DataFrame(confusion_matrix(Y_test, clf_NM.predict(X_test))))\n",
    "\n",
    "#Accuracy et F1-score score\n",
    "print('Précision du modèle : ', accuracy_score(Y_test,clf_NM.predict(X_test)))\n",
    "print('F1-Score : ', f1_score(Y_test, Y_pred_NM))"
   ]
  },
  {
   "cell_type": "markdown",
   "metadata": {},
   "source": [
    "### Modèle de sur-échantillonnage"
   ]
  },
  {
   "cell_type": "markdown",
   "metadata": {},
   "source": [
    "Cette méthode permet d'obtenir plus de données minoriataires en se basant sur les précédentes observations."
   ]
  },
  {
   "cell_type": "code",
   "execution_count": 11,
   "metadata": {},
   "outputs": [
    {
     "name": "stdout",
     "output_type": "stream",
     "text": [
      "Odds Ratio : \n",
      "                         0\n",
      "VMail Message   0.977073\n",
      "Day Mins        1.008093\n",
      "Day Calls       0.999090\n",
      "Day Charge      1.016300\n",
      "Eve Mins        1.006311\n",
      "Eve Calls       1.002856\n",
      "Eve Charge      0.987279\n",
      "Night Mins      1.003032\n",
      "Night Calls     0.999534\n",
      "Night Charge    0.979022\n",
      "Intl Mins       1.116484\n",
      "Intl Calls      0.823307\n",
      "Intl Charge     1.040923\n",
      "CustServ Calls  1.520457\n",
      "     0    1\n",
      "0  392  174\n",
      "1   27   74\n",
      "Précision du modèle :  0.6986506746626686\n",
      "F1-Score :  0.42406876790830944\n"
     ]
    }
   ],
   "source": [
    "SM = SMOTE(random_state=42)\n",
    "X_SM, Y_SM = SM.fit_resample(X_train, Y_train)\n",
    "\n",
    "#Régression logistique\n",
    "clf_SM = LogisticRegression(max_iter=1000).fit(X_SM, Y_SM.to_numpy().ravel())\n",
    "Y_pred_SM = clf_SM.predict(X_test)\n",
    "\n",
    "#Calcul des odds-ratios\n",
    "odds_ratios_SM = pd.DataFrame(np.exp(clf_SM.coef_), columns=X.columns)\n",
    "print('Odds Ratio : \\n ', odds_ratios_SM.T)\n",
    "\n",
    "#Matrice de confusion\n",
    "print(pd.DataFrame(confusion_matrix(Y_test, clf_SM.predict(X_test))))\n",
    "\n",
    "#Accuracy score\n",
    "print('Précision du modèle : ', accuracy_score(Y_test,clf_SM.predict(X_test)))\n",
    "\n",
    "#F1-Score\n",
    "print('F1-Score : ', f1_score(Y_test, Y_pred_SM))"
   ]
  },
  {
   "cell_type": "markdown",
   "metadata": {},
   "source": [
    "Le meilleur des 3 modèles est celui du changement de seuil. En effet, en plus d'avoir la meilleur des accuracy (0,817) il possède aussi le meilleur F1-score (0,496)."
   ]
  },
  {
   "cell_type": "markdown",
   "metadata": {},
   "source": [
    "## Question 6"
   ]
  },
  {
   "cell_type": "code",
   "execution_count": 12,
   "metadata": {},
   "outputs": [
    {
     "data": {
      "text/plain": [
       "<matplotlib.legend.Legend at 0x1dd2b8dc740>"
      ]
     },
     "execution_count": 12,
     "metadata": {},
     "output_type": "execute_result"
    },
    {
     "data": {
      "image/png": "[encoded data removed]",
      "text/plain": [
       "<Figure size 640x480 with 1 Axes>"
      ]
     },
     "metadata": {},
     "output_type": "display_data"
    }
   ],
   "source": [
    "#Récupération des probabilités\n",
    "Y_proba_NM = clf_NM.predict_proba(X_test)[:, 1]\n",
    "Y_proba_SM = clf_SM.predict_proba(X_test)[:, 1]\n",
    "\n",
    "#Calculer courbes ROC\n",
    "fpr, tpr, thresholds = roc_curve(Y_test, Y_prob, drop_intermediate=False)\n",
    "fpr_NM, tpr_NM, thresholds_NM = roc_curve(Y_test, Y_proba_NM, drop_intermediate=False)\n",
    "fpr_SM, tpr_SM, thresholds_SM = roc_curve(Y_test, Y_proba_SM, drop_intermediate=False)\n",
    "\n",
    "#Calculer l'AUC\n",
    "roc_auc = roc_auc_score(Y_test, Y_prob)\n",
    "roc_auc_NM = roc_auc_score(Y_test, Y_proba_NM)\n",
    "roc_auc_SM = roc_auc_score(Y_test, Y_proba_SM)\n",
    "\n",
    "#Affichage\n",
    "plt.plot([0, 1], [0, 1], color='blue')\n",
    "plt.xlabel('spécificité (faux positifs)')\n",
    "plt.ylabel('sensibilité (vrais positifs)')\n",
    "plt.title('Courbes ROC')\n",
    "#Méthode de base de régression logistique\n",
    "plt.plot(fpr, tpr, color='purple',label='changement de seuil')\n",
    "#Méthode Sous-échantillonnage\n",
    "plt.plot(fpr_NM, tpr_NM, color='yellow', label='Sous-échantillonnage')\n",
    "#Méthode Sur-échantillonnage\n",
    "plt.plot(fpr_SM, tpr_SM, color='green', label='Sur-échantillonnage')\n",
    "plt.legend(loc='lower right')"
   ]
  },
  {
   "cell_type": "code",
   "execution_count": null,
   "metadata": {},
   "outputs": [],
   "source": []
  }
 ],
 "metadata": {
  "kernelspec": {
   "display_name": "Python 3",
   "language": "python",
   "name": "python3"
  },
  "language_info": {
   "codemirror_mode": {
    "name": "ipython",
    "version": 3
   },
   "file_extension": ".py",
   "mimetype": "text/x-python",
   "name": "python",
   "nbconvert_exporter": "python",
   "pygments_lexer": "ipython3",
   "version": "3.12.2"
  }
 },
 "nbformat": 4,
 "nbformat_minor": 2
}
